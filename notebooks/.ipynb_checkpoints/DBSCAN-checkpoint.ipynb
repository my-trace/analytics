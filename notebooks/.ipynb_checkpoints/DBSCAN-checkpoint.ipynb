{
 "cells": [
  {
   "cell_type": "code",
   "execution_count": 127,
   "metadata": {
    "collapsed": false
   },
   "outputs": [],
   "source": [
    "import json\n",
    "import numpy as np\n",
    "import matplotlib.pyplot as plt\n",
    "import plotly.plotly as py\n",
    "import pandas as pd\n",
    "from sklearn.cluster import DBSCAN\n",
    "%matplotlib inline\n",
    "\n",
    "py.sign_in('azai91', 'LreJY5jHtBf0lSX5wUez')"
   ]
  },
  {
   "cell_type": "code",
   "execution_count": 128,
   "metadata": {
    "collapsed": false
   },
   "outputs": [],
   "source": [
    "# Load data into np \n",
    "json_data = open('./../trace/data/sample_locations.json').read()\n",
    "data = json.loads(json_data)\n",
    "X = np.array([(c.get('lat'), c.get('lng')) for c in data[500:]])"
   ]
  },
  {
   "cell_type": "code",
   "execution_count": 129,
   "metadata": {
    "collapsed": false
   },
   "outputs": [],
   "source": [
    "db = DBSCAN(eps=0.3, min_samples=5).fit(X)\n",
    "core_samples_mask = np.zeros_like(db.labels_, dtype=bool)\n",
    "core_samples_mask[db.core_sample_indices_] = True\n",
    "labels = db.labels_"
   ]
  },
  {
   "cell_type": "code",
   "execution_count": 130,
   "metadata": {
    "collapsed": false
   },
   "outputs": [],
   "source": [
    "df = pd.DataFrame(columns=['lat','lng'], data=X)"
   ]
  },
  {
   "cell_type": "code",
   "execution_count": 131,
   "metadata": {
    "collapsed": true
   },
   "outputs": [],
   "source": [
    "def get_bounds(coords, buffer):\n",
    "    min_lat, max_lat = min(coords[:,0]), max(coords[:,0])\n",
    "    min_lng, max_lng = min(coords[:,1]), max(coords[:,1])\n",
    "    lat_buffer = (max_lat - min_lat) * buffer\n",
    "    lng_buffer = (max_lng - min_lng) * buffer\n",
    "    return ([min_lat - lat_buffer, max_lat + lat_buffer], [min_lng - lng_buffer, max_lng + lng_buffer])\n",
    "\n",
    "def get_clusters(X, labels, core_samples_mask):\n",
    "    clusters = []\n",
    "    unique_labels = set(labels)\n",
    "    for label in unique_labels:\n",
    "        # skip noise\n",
    "        if label == -1:\n",
    "            continue\n",
    "        class_member_mask = (labels == label)\n",
    "        xy = X[class_member_mask & core_samples_mask]\n",
    "        if len(xy):\n",
    "            clusters.append(xy.mean(axis=0))\n",
    "    return pd.DataFrame(data=clusters,columns=['lat','lng'])"
   ]
  },
  {
   "cell_type": "code",
   "execution_count": 132,
   "metadata": {
    "collapsed": false
   },
   "outputs": [],
   "source": [
    "clusters = get_clusters(X, labels, core_samples_mask)"
   ]
  },
  {
   "cell_type": "code",
   "execution_count": 134,
   "metadata": {
    "collapsed": false
   },
   "outputs": [
    {
     "data": {
      "text/html": [
       "<iframe id=\"igraph\" scrolling=\"no\" style=\"border:none;\" seamless=\"seamless\" src=\"https://plot.ly/~azai91/4.embed\" height=\"525px\" width=\"100%\"></iframe>"
      ],
      "text/plain": [
       "<plotly.tools.PlotlyDisplay object>"
      ]
     },
     "execution_count": 134,
     "metadata": {},
     "output_type": "execute_result"
    }
   ],
   "source": [
    "data = []\n",
    "data.append(dict(\n",
    "            lat = df['lat'],\n",
    "            lon = df['lng'],\n",
    "            type = 'scattergeo',\n",
    "            mode = 'lines',\n",
    "    ))\n",
    "data.append(dict(\n",
    "        lat = clusters['lat'],\n",
    "        lon = clusters['lng'],\n",
    "        type = 'scattergeo',\n",
    "        mode = 'marker',\n",
    "        geo = 'geo2'\n",
    "    ))\n",
    "\n",
    "\n",
    "lat_bounds, lng_bounds = get_bounds(X, 0.1)\n",
    "layout = dict(\n",
    "        title = 'Asia Trip',\n",
    "        showlegend = False, \n",
    "        autosize=False,\n",
    "        geo = dict(\n",
    "            showland = True,\n",
    "            landcolor = 'rgb(243, 243, 243)',\n",
    "            countrycolor = 'rgb(204, 204, 204)',\n",
    "            lonaxis = dict(\n",
    "                range = lng_bounds,\n",
    "            ),\n",
    "            lataxis = dict(\n",
    "                range = lat_bounds,\n",
    "            ),\n",
    "            domain = dict(\n",
    "                x = [0,0.5],\n",
    "                y = [0,1],\n",
    "            )\n",
    "        ),\n",
    "        geo2 = dict(\n",
    "            showland = True,\n",
    "            landcolor = 'rgb(243, 243, 243)',\n",
    "            countrycolor = 'rgb(204, 204, 204)',\n",
    "            lonaxis = dict(\n",
    "                range = lng_bounds,\n",
    "            ),\n",
    "            lataxis = dict(\n",
    "                range = lat_bounds,\n",
    "            ),\n",
    "            domain = dict(\n",
    "                x = [0.5,1],\n",
    "                y = [0,1],\n",
    "            )\n",
    "        )\n",
    "    )\n",
    "fig = { 'data':data, 'layout': layout }\n",
    "py.iplot(fig, validate=False, filename='test')"
   ]
  },
  {
   "cell_type": "code",
   "execution_count": null,
   "metadata": {
    "collapsed": true
   },
   "outputs": [],
   "source": []
  }
 ],
 "metadata": {
  "kernelspec": {
   "display_name": "Python 2",
   "language": "python",
   "name": "python2"
  },
  "language_info": {
   "codemirror_mode": {
    "name": "ipython",
    "version": 2
   },
   "file_extension": ".py",
   "mimetype": "text/x-python",
   "name": "python",
   "nbconvert_exporter": "python",
   "pygments_lexer": "ipython2",
   "version": "2.7.13"
  }
 },
 "nbformat": 4,
 "nbformat_minor": 2
}
